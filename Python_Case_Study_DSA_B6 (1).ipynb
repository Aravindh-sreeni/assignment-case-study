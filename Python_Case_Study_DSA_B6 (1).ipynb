{
  "nbformat": 4,
  "nbformat_minor": 0,
  "metadata": {
    "colab": {
      "provenance": []
    },
    "kernelspec": {
      "name": "python3",
      "display_name": "Python 3"
    },
    "language_info": {
      "name": "python"
    }
  },
  "cells": [
    {
      "cell_type": "markdown",
      "source": [
        "# Answer the following questions using only builtin Python datatypes and functions. Do not use Numpy or Scipy (i.e. No library imports allowed)"
      ],
      "metadata": {
        "id": "zVV_KMSIUG-A"
      }
    },
    {
      "cell_type": "markdown",
      "source": [
        "# Q1. Write a function that return the range (maximum and minimun) of a given list of numbers"
      ],
      "metadata": {
        "id": "uZnK7VgWV5SI"
      }
    },
    {
      "cell_type": "code",
      "source": [
        "def get_range(numbers):\n",
        "  minimum = min(numbers)\n",
        "  maximum = max(numbers)\n",
        "  return minimum, maximum\n",
        "first = input(\"Enter the numbers: \")\n",
        "numbers = list(map(int, first.split()))\n",
        "minimum, maximum = get_range(numbers)\n",
        "print(\"Minimum:\", minimum)\n",
        "print(\"Maximum:\", maximum)\n",
        "\n"
      ],
      "metadata": {
        "id": "vuAbJQcOWAM7",
        "colab": {
          "base_uri": "https://localhost:8080/"
        },
        "outputId": "fccf70f5-a273-4fa6-93b2-b9b705160f95"
      },
      "execution_count": 25,
      "outputs": [
        {
          "output_type": "stream",
          "name": "stdout",
          "text": [
            "Enter the numbers: 21 23 4 56 7 68 \n",
            "Minimum: 4\n",
            "Maximum: 68\n"
          ]
        }
      ]
    },
    {
      "cell_type": "markdown",
      "source": [
        "## Q2. Write function that returns mean value of a list of numbers"
      ],
      "metadata": {
        "id": "Y5_v5a8_U1O-"
      }
    },
    {
      "cell_type": "code",
      "source": [
        "def get_mean(numbers):\n",
        "  total = sum(numbers)\n",
        "  length = len(numbers)\n",
        "  return total / length\n",
        "first = input(\"Enter the numbers: \")\n",
        "numbers = list(map(int, first.split()))\n",
        "mean = get_mean(numbers)\n",
        "print(\"Mean:\", mean)\n"
      ],
      "metadata": {
        "id": "RajjEyacU7Sc",
        "colab": {
          "base_uri": "https://localhost:8080/"
        },
        "outputId": "3bb5fd39-5c13-4886-9a75-39f50eb070b7"
      },
      "execution_count": 27,
      "outputs": [
        {
          "output_type": "stream",
          "name": "stdout",
          "text": [
            "Enter the numbers: 2 34 5 6 12 6 7 8\n",
            "Mean: 10.0\n"
          ]
        }
      ]
    },
    {
      "cell_type": "markdown",
      "source": [
        "# Q3. Write a function that returns the median value of a list of numbers"
      ],
      "metadata": {
        "id": "OpeRxoEoVTIP"
      }
    },
    {
      "cell_type": "code",
      "source": [
        "def get_median(numbers):\n",
        "  numbers.sort()\n",
        "  if len(numbers) % 2 == 0:\n",
        "    return (numbers[len(numbers) // 2] + numbers[len(numbers) // 2 - 1]) / 2\n",
        "  else:\n",
        "    return numbers[len(numbers) // 2]\n",
        "first = input(\"Enter the numbers: \")\n",
        "numbers = list(map(int, first.split()))\n",
        "median = get_median(numbers)\n",
        "print(\"Median:\", median)"
      ],
      "metadata": {
        "id": "u1CUy0UOVaQi",
        "colab": {
          "base_uri": "https://localhost:8080/"
        },
        "outputId": "41cfe876-c62d-4ea9-ebd3-89e8afa58082"
      },
      "execution_count": 29,
      "outputs": [
        {
          "output_type": "stream",
          "name": "stdout",
          "text": [
            "Enter the numbers: 2 3 5 6 7 84 3\n",
            "Median: 5\n"
          ]
        }
      ]
    },
    {
      "cell_type": "markdown",
      "source": [
        "## Q4. Write a function to return the mod of a list of numbers, if no mod exists, it should return None. If more than one mod exist, return the mod values as list"
      ],
      "metadata": {
        "id": "2EMOG7AZSqVn"
      }
    },
    {
      "cell_type": "code",
      "execution_count": 32,
      "metadata": {
        "id": "qnMm2dhhSk3-",
        "colab": {
          "base_uri": "https://localhost:8080/"
        },
        "outputId": "40b9d257-7dd6-4cd3-cbe7-6c63b739f429"
      },
      "outputs": [
        {
          "output_type": "stream",
          "name": "stdout",
          "text": [
            "Enter the numbers: 3 4 5 \n",
            "Mod: [3, 4, 5]\n"
          ]
        }
      ],
      "source": [
        "def get_mod(numbers):\n",
        "  counts = {}\n",
        "  for num in numbers:\n",
        "    if num in counts:\n",
        "      counts[num] += 1\n",
        "    else:\n",
        "      counts[num] = 1\n",
        "  max_count = 0\n",
        "  for count in counts.values():\n",
        "    if count > max_count:\n",
        "      max_count = count\n",
        "      mod_values = []\n",
        "  for num, count in counts.items():\n",
        "    if count == max_count:\n",
        "      mod_values.append(num)\n",
        "  if len(mod_values) == 1:\n",
        "    return mod_values[0]\n",
        "  else:\n",
        "    return mod_values\n",
        "first = input(\"Enter the numbers: \")\n",
        "numbers = list(map(int, first.split()))\n",
        "mod = get_mod(numbers)\n",
        "print(\"Mod:\", mod)"
      ]
    },
    {
      "cell_type": "markdown",
      "source": [
        "## Q5. Write function to compute a given percentile value (e.g. 90th percentile) of a list of numbers"
      ],
      "metadata": {
        "id": "LcqWwqtgTCiL"
      }
    },
    {
      "cell_type": "code",
      "source": [
        "def get_percentile(numbers, percentile):\n",
        "  numbers.sort()\n",
        "  index = int(percentile / 100 * len(numbers))\n",
        "  return numbers[index]\n",
        "first = input(\"Enter the numbers: \")\n",
        "numbers = list(map(int, first.split()))\n",
        "percentile =int (input(\"Enter the percentile: \"))\n",
        "percentile_value = get_percentile(numbers, percentile)\n",
        "print(\"Percentile:\", percentile_value)"
      ],
      "metadata": {
        "id": "Sn307h0TTb2b",
        "colab": {
          "base_uri": "https://localhost:8080/"
        },
        "outputId": "665bc619-cf2f-47b8-a50e-fe9d8f0c3c54"
      },
      "execution_count": 68,
      "outputs": [
        {
          "output_type": "stream",
          "name": "stdout",
          "text": [
            "Enter the numbers: 2 4 23 5 6 12\n",
            "Enter the percentile: 25\n",
            "Percentile: 4\n"
          ]
        }
      ]
    },
    {
      "cell_type": "markdown",
      "source": [
        "# Q6. Write a function that returns the lower bound of a list of numbers"
      ],
      "metadata": {
        "id": "N-TYHkDcWOfS"
      }
    },
    {
      "cell_type": "code",
      "source": [
        "def get_lower_bound(numbers):\n",
        "  numbers.sort()\n",
        "  index1 = int(0.25 * len(numbers))\n",
        "  index2 = int(0.75 * len(numbers))\n",
        "  q1 = numbers[index1]\n",
        "  q3 = numbers[index2]\n",
        "  iqr = q3 - q1\n",
        "  lower_bound = q1 - 1.5 * iqr\n",
        "  return lower_bound\n",
        "first = input(\"Enter the numbers: \")\n",
        "numbers = list(map(int, first.split()))\n",
        "lower_bound = get_lower_bound(numbers)\n",
        "print(\"Lower bound:\", lower_bound)"
      ],
      "metadata": {
        "id": "Y-RKPdKuW5nx",
        "colab": {
          "base_uri": "https://localhost:8080/"
        },
        "outputId": "8442e551-32c6-41df-dd63-a3505f39ed62"
      },
      "execution_count": 80,
      "outputs": [
        {
          "output_type": "stream",
          "name": "stdout",
          "text": [
            "Enter the numbers: 4 6 8 2 9 7 5 3 11 27 45\n",
            "Lower bound: -6.5\n"
          ]
        }
      ]
    },
    {
      "cell_type": "markdown",
      "source": [
        "## Q7. Write function to return any outliers from a given list of numbers, if no outliers present it should return None"
      ],
      "metadata": {
        "id": "5aHfaI_jThpX"
      }
    },
    {
      "cell_type": "code",
      "source": [
        "def get_upper_bound(numbers):\n",
        "  numbers.sort()\n",
        "  index1 = int(0.25 * len(numbers))\n",
        "  index2 = int(0.75 * len(numbers))\n",
        "  q1 = numbers[index1]\n",
        "  q3 = numbers[index2]\n",
        "  iqr = q3 - q1\n",
        "  upper_bound = q3 + 1.5 * iqr\n",
        "  return upper_bound\n",
        "\n",
        "def get_outliers(numbers):\n",
        "  outliers = []\n",
        "  lower_bound = get_lower_bound(numbers)\n",
        "  upper_bound = get_upper_bound(numbers)\n",
        "  for num in numbers:\n",
        "    if num < lower_bound or num > upper_bound:\n",
        "      outliers.append(num)\n",
        "  if len(outliers) == 0:\n",
        "    return None\n",
        "  else:\n",
        "    return outliers\n",
        "first = input(\"Enter the numbers: \")\n",
        "numbers = list(map(int, first.split()))\n",
        "outliers = get_outliers(numbers)\n",
        "print(\"Outliers:\", outliers)"
      ],
      "metadata": {
        "id": "gG6-qzT7T0Si",
        "colab": {
          "base_uri": "https://localhost:8080/"
        },
        "outputId": "d90c6b24-8ae8-4090-e9c3-0d9c850246e8"
      },
      "execution_count": 79,
      "outputs": [
        {
          "output_type": "stream",
          "name": "stdout",
          "text": [
            "Enter the numbers: 4 6 8 2 9 7 5 3 11 27 45\n",
            "Outliers: [27, 45]\n"
          ]
        }
      ]
    },
    {
      "cell_type": "code",
      "source": [
        "def get_standard_deviation(numbers):\n",
        "  mean = get_mean(numbers)\n",
        "  variance = 0\n",
        "  for num in numbers:\n",
        "    variance += (num - mean) ** 2\n",
        "  variance /= len(numbers)\n",
        "  return variance ** 0.5\n",
        "first = input(\"Enter the numbers: \")\n",
        "numbers = list(map(int, first.split()))\n",
        "standard_deviation = get_standard_deviation(numbers)\n",
        "print(\"Standard deviation:\", standard_deviation)"
      ],
      "metadata": {
        "id": "MMU_cMlLUFxJ",
        "colab": {
          "base_uri": "https://localhost:8080/"
        },
        "outputId": "f7c60394-f774-4d60-ccb0-6023b2515242"
      },
      "execution_count": 73,
      "outputs": [
        {
          "output_type": "stream",
          "name": "stdout",
          "text": [
            "Enter the numbers:  4 4 5 9 2 5 6\n",
            "Standard deviation: 2.0\n"
          ]
        }
      ]
    },
    {
      "cell_type": "markdown",
      "source": [
        "## Q9. Write function to compute and return Z-score values of a list of numbers"
      ],
      "metadata": {
        "id": "LufmQDJPURkM"
      }
    },
    {
      "cell_type": "code",
      "source": [
        "def get_z_scores(numbers):\n",
        "  mean = get_mean(numbers)\n",
        "  std = get_standard_deviation(numbers)\n",
        "  z_scores = []\n",
        "  for num in numbers:\n",
        "    z_scores.append((num - mean) / std)\n",
        "  return z_scores\n",
        "first = input(\"Enter the numbers: \")\n",
        "numbers = list(map(int, first.split()))\n",
        "z_scores = get_z_scores(numbers)\n",
        "print(\"Z-scores:\", z_scores)"
      ],
      "metadata": {
        "id": "ml2qpSpFUYxV",
        "colab": {
          "base_uri": "https://localhost:8080/"
        },
        "outputId": "a44933ec-745a-4fee-b838-c3de3ef2056a"
      },
      "execution_count": 74,
      "outputs": [
        {
          "output_type": "stream",
          "name": "stdout",
          "text": [
            "Enter the numbers:  5 4 2 6 8 1 2 5 \n",
            "Z-scores: [0.3969335839866199, -0.05670479771237427, -0.9639815611103626, 0.8505719656856141, 1.7578487290836025, -1.4176199428093568, -0.9639815611103626, 0.3969335839866199]\n"
          ]
        }
      ]
    },
    {
      "cell_type": "markdown",
      "source": [
        "\n",
        "## Q10. Write a function to compute and return the Pearson correlation coefficient value of two list of numbers"
      ],
      "metadata": {
        "id": "YQSNHIfxUb6s"
      }
    },
    {
      "cell_type": "code",
      "source": [
        "def get_pearson_correlation_coefficient(numbers1, numbers2):\n",
        "  mean1 = get_mean(numbers1)\n",
        "  mean2 = get_mean(numbers2)\n",
        "  std1 = get_standard_deviation(numbers1)\n",
        "  std2 = get_standard_deviation(numbers2)\n",
        "  numerator = 0\n",
        "  for i in range(len(numbers1)):\n",
        "    numerator += (numbers1[i] - mean1) * (numbers2[i] - mean2)\n",
        "  denominator = std1 * std2\n",
        "  pearson_correlation_coefficient = numerator / denominator\n",
        "  return pearson_correlation_coefficient\n",
        "first = input(\"Enter the numbers: \")\n",
        "numbers1 = list(map(int, first.split()))\n",
        "second = input(\"Enter the numbers: \")\n",
        "numbers2 = list(map(int, second.split()))\n",
        "pearson_correlation_coefficient = get_pearson_correlation_coefficient(numbers1, numbers2)\n",
        "print(\"Pearson correlation coefficient:\", pearson_correlation_coefficient)\n"
      ],
      "metadata": {
        "id": "1YGqr3T6Uk6H",
        "colab": {
          "base_uri": "https://localhost:8080/"
        },
        "outputId": "37d5ceb3-f460-4b9f-d466-2f0f6a59d383"
      },
      "execution_count": 75,
      "outputs": [
        {
          "output_type": "stream",
          "name": "stdout",
          "text": [
            "Enter the numbers: 5 4 6 2 1 3 7 8\n",
            "Enter the numbers: 1 2 45 6 8 5 2 4 5 5\n",
            "Pearson correlation coefficient: 1.2500833096321586\n"
          ]
        }
      ]
    },
    {
      "cell_type": "code",
      "source": [],
      "metadata": {
        "id": "AqqffT_30-VK"
      },
      "execution_count": 75,
      "outputs": []
    }
  ]
}