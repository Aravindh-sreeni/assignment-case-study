{
  "cells": [
    {
      "cell_type": "markdown",
      "id": "d2328cad",
      "metadata": {
        "id": "d2328cad"
      },
      "source": [
        "# Python Basics Assignment"
      ]
    },
    {
      "cell_type": "markdown",
      "id": "cb537954",
      "metadata": {
        "id": "cb537954"
      },
      "source": [
        "### Question 1\n",
        "Write a function to compute number of vowels in a string given as input"
      ]
    },
    {
      "cell_type": "code",
      "execution_count": 3,
      "id": "cf213ba2",
      "metadata": {
        "colab": {
          "base_uri": "https://localhost:8080/"
        },
        "id": "cf213ba2",
        "outputId": "e4bacbd7-e4a8-45e4-aa85-448fa3a16996"
      },
      "outputs": [
        {
          "output_type": "stream",
          "name": "stdout",
          "text": [
            "Enter a string:  appu\n",
            "2\n"
          ]
        }
      ],
      "source": [
        "def vowel_count(string):\n",
        "    num_vowels=0\n",
        "    for char in string:\n",
        "        if char in \"aeiouAEIOU\":\n",
        "            num_vowels += 1\n",
        "    return num_vowels\n",
        "first  = input(\"Enter a string: \")\n",
        "print(vowel_count(first))"
      ]
    },
    {
      "cell_type": "markdown",
      "id": "4eaff430",
      "metadata": {
        "id": "4eaff430"
      },
      "source": [
        "### Question 2\n",
        "Write a function that checks whether a number is prime."
      ]
    },
    {
      "cell_type": "code",
      "execution_count": 4,
      "id": "81934cf7",
      "metadata": {
        "colab": {
          "base_uri": "https://localhost:8080/"
        },
        "id": "81934cf7",
        "outputId": "1a8f5053-9d0f-42ba-a889-577c01750f31"
      },
      "outputs": [
        {
          "output_type": "stream",
          "name": "stdout",
          "text": [
            "Enter a number: 12\n",
            "12 is not a prime number.\n"
          ]
        }
      ],
      "source": [
        "def is_prime(num):\n",
        "    if num < 2:\n",
        "        return False\n",
        "    for i in range(2, int(num**0.5) + 1):\n",
        "        if num % i == 0:\n",
        "            return False\n",
        "    return True\n",
        "number = int(input(\"Enter a number: \"))\n",
        "if is_prime(number):\n",
        "    print(f\"{number} is a prime number.\")\n",
        "else:\n",
        "    print(f\"{number} is not a prime number.\")"
      ]
    },
    {
      "cell_type": "markdown",
      "id": "5f061e50",
      "metadata": {
        "id": "5f061e50"
      },
      "source": [
        "### Question 3\n",
        "Write a function to return the maximum of two numbers."
      ]
    },
    {
      "cell_type": "code",
      "execution_count": 5,
      "id": "44e2a596",
      "metadata": {
        "colab": {
          "base_uri": "https://localhost:8080/"
        },
        "id": "44e2a596",
        "outputId": "c4dff921-5212-4ca6-be69-e4dedde5860e"
      },
      "outputs": [
        {
          "output_type": "stream",
          "name": "stdout",
          "text": [
            "Enter first number: 4\n",
            "Enter second number: 3\n",
            "The maximum of 4.0 and 3.0 is 4.0\n"
          ]
        }
      ],
      "source": [
        "def maximum(a, b):\n",
        "    if a > b:\n",
        "        return a\n",
        "    else:\n",
        "        return b\n",
        "num1 = float(input(\"Enter first number: \"))\n",
        "num2 = float(input(\"Enter second number: \"))\n",
        "print(\"The maximum of\", num1, \"and\", num2, \"is\", maximum(num1, num2))"
      ]
    },
    {
      "cell_type": "markdown",
      "id": "7513ca91",
      "metadata": {
        "id": "7513ca91"
      },
      "source": [
        "### Question 4\n",
        "Write a function to return the factorial of a number."
      ]
    },
    {
      "cell_type": "code",
      "execution_count": 6,
      "id": "6617842f",
      "metadata": {
        "colab": {
          "base_uri": "https://localhost:8080/"
        },
        "id": "6617842f",
        "outputId": "b233c4a7-bbb6-4632-c6d5-c4ca3eef45eb"
      },
      "outputs": [
        {
          "output_type": "stream",
          "name": "stdout",
          "text": [
            "Enter a number: 76\n",
            "The factorial of 76 is 1885494701666050254987932260861146558230394535379329335672487982961844043495537923117729972224000000000000000000\n"
          ]
        }
      ],
      "source": [
        "def factorial(n):\n",
        "    if n == 0:\n",
        "        return 1\n",
        "    else:\n",
        "        return n * factorial(n-1)\n",
        "num = int(input(\"Enter a number: \"))\n",
        "print(\"The factorial of\", num, \"is\", factorial(num))"
      ]
    },
    {
      "cell_type": "markdown",
      "id": "9b942098",
      "metadata": {
        "id": "9b942098"
      },
      "source": [
        "### Question 5\n",
        "Write a function to reverse a string without string indexing."
      ]
    },
    {
      "cell_type": "code",
      "execution_count": 7,
      "id": "d606b194",
      "metadata": {
        "colab": {
          "base_uri": "https://localhost:8080/"
        },
        "id": "d606b194",
        "outputId": "94e8e949-c463-4b2b-bee5-3296abfc8320"
      },
      "outputs": [
        {
          "output_type": "stream",
          "name": "stdout",
          "text": [
            "Enter a string: apple\n",
            "The reversed string is elppa\n"
          ]
        }
      ],
      "source": [
        "def reverse_string(string):\n",
        "    reversed_string = \"\"\n",
        "    for i in range(len(string)-1, -1, -1):\n",
        "        reversed_string += string[i]\n",
        "    return reversed_string\n",
        "\n",
        "string = input(\"Enter a string: \")\n",
        "print(\"The reversed string is\", reverse_string(string))"
      ]
    },
    {
      "cell_type": "markdown",
      "id": "1abd915b",
      "metadata": {
        "id": "1abd915b"
      },
      "source": [
        "### Question 6\n",
        "Write a function to check if a string is a palindrome."
      ]
    },
    {
      "cell_type": "code",
      "execution_count": 8,
      "id": "2b868fb3",
      "metadata": {
        "colab": {
          "base_uri": "https://localhost:8080/"
        },
        "id": "2b868fb3",
        "outputId": "9a4818ad-21d8-40c4-c761-4806624ca917"
      },
      "outputs": [
        {
          "output_type": "stream",
          "name": "stdout",
          "text": [
            "Enter a string: malayalam\n",
            "The string is a palindrome.\n"
          ]
        }
      ],
      "source": [
        "def is_palindrome(string):\n",
        "    reversed_string = reverse_string(string)\n",
        "    if string == reversed_string:\n",
        "        return True\n",
        "    else:\n",
        "        return False\n",
        "\n",
        "string = input(\"Enter a string: \")\n",
        "if is_palindrome(string):\n",
        "    print(\"The string is a palindrome.\")\n",
        "else:\n",
        "    print(\"The string is not a palindrome.\")"
      ]
    },
    {
      "cell_type": "markdown",
      "id": "5f2f3791",
      "metadata": {
        "id": "5f2f3791"
      },
      "source": [
        "### Question 7\n",
        "Write a function to count vowels in a string."
      ]
    },
    {
      "cell_type": "code",
      "execution_count": 9,
      "id": "73fefa50",
      "metadata": {
        "colab": {
          "base_uri": "https://localhost:8080/"
        },
        "id": "73fefa50",
        "outputId": "3c360e27-81c1-4971-e73e-e4ab042d1d4f"
      },
      "outputs": [
        {
          "output_type": "stream",
          "name": "stdout",
          "text": [
            "Enter a string: vowel\n",
            "2\n"
          ]
        }
      ],
      "source": [
        "def vowel_count(string):\n",
        "    num_vowels=0\n",
        "    for char in string:\n",
        "        if char in \"aeiouAEIOU\":\n",
        "            num_vowels += 1\n",
        "    return num_vowels\n",
        "first  = input(\"Enter a string: \")\n",
        "print(vowel_count(first))"
      ]
    },
    {
      "cell_type": "markdown",
      "id": "0d3a9996",
      "metadata": {
        "id": "0d3a9996"
      },
      "source": [
        "### Question 8\n",
        "Write a function that returns the sum of a list."
      ]
    },
    {
      "cell_type": "code",
      "execution_count": 11,
      "id": "ab6afc66",
      "metadata": {
        "colab": {
          "base_uri": "https://localhost:8080/"
        },
        "id": "ab6afc66",
        "outputId": "4b1f34f2-c529-48f7-c619-fca22c03ad5d"
      },
      "outputs": [
        {
          "output_type": "stream",
          "name": "stdout",
          "text": [
            "Enter a list of numbers separated by spaces: 1 2 2 1 3 4\n",
            "The sum of the list is 13\n"
          ]
        }
      ],
      "source": [
        "def sum_list(lst):\n",
        "    total = 0\n",
        "    for num in lst:\n",
        "        total += num\n",
        "    return total\n",
        "\n",
        "first = input(\"Enter a list of numbers separated by spaces: \")\n",
        "numbers = [int(num) for num in first.split()]\n",
        "print(\"The sum of the list is\", sum_list(numbers))\n"
      ]
    },
    {
      "cell_type": "markdown",
      "id": "f6682500",
      "metadata": {
        "id": "f6682500"
      },
      "source": [
        "### Question 9\n",
        "Write a function to find the smallest number in a list."
      ]
    },
    {
      "cell_type": "code",
      "execution_count": 12,
      "id": "6798a641",
      "metadata": {
        "colab": {
          "base_uri": "https://localhost:8080/"
        },
        "id": "6798a641",
        "outputId": "e7629f1d-42e8-47e8-d9f3-69d300069cec"
      },
      "outputs": [
        {
          "output_type": "stream",
          "name": "stdout",
          "text": [
            "Enter a list of numbers separated by spaces:  5 3 23 4 1 2 0\n",
            "The smallest number in the list is 0\n"
          ]
        }
      ],
      "source": [
        "def smallest_number(lst):\n",
        "    smallest = lst[0]\n",
        "    for num in lst:\n",
        "        if num < smallest:\n",
        "            smallest = num\n",
        "    return smallest\n",
        "\n",
        "first = input(\"Enter a list of numbers separated by spaces: \")\n",
        "numbers = [int(num) for num in first.split()]\n",
        "print(\"The smallest number in the list is\", smallest_number(numbers))"
      ]
    },
    {
      "cell_type": "markdown",
      "id": "fb11e683",
      "metadata": {
        "id": "fb11e683"
      },
      "source": [
        "### Question 10\n",
        "Write a function to remove duplicates from a list."
      ]
    },
    {
      "cell_type": "code",
      "execution_count": 13,
      "id": "7c53f88c",
      "metadata": {
        "colab": {
          "base_uri": "https://localhost:8080/"
        },
        "id": "7c53f88c",
        "outputId": "409d9c9d-eae0-4a73-a823-73cab19ea4ad"
      },
      "outputs": [
        {
          "output_type": "stream",
          "name": "stdout",
          "text": [
            "Enter a list of numbers separated by spaces:  1 2 3 4 5 6 3 \n",
            "The list with duplicates removed is [1, 2, 3, 4, 5, 6]\n"
          ]
        }
      ],
      "source": [
        "def remove_duplicates(lst):\n",
        "    unique_lst = []\n",
        "    for num in lst:\n",
        "        if num not in unique_lst:\n",
        "            unique_lst.append(num)\n",
        "    return unique_lst\n",
        "first = input(\"Enter a list of numbers separated by spaces: \")\n",
        "numbers = [int(num) for num in first.split()]\n",
        "print(\"The list with duplicates removed is\", remove_duplicates(numbers))\n"
      ]
    },
    {
      "cell_type": "markdown",
      "id": "9c380a5c",
      "metadata": {
        "id": "9c380a5c"
      },
      "source": [
        "### Question 11\n",
        "Write a function to sort a list in ascending order without using builtin sort function"
      ]
    },
    {
      "cell_type": "code",
      "execution_count": 14,
      "id": "8e43832f",
      "metadata": {
        "colab": {
          "base_uri": "https://localhost:8080/"
        },
        "id": "8e43832f",
        "outputId": "4b0bff66-ee64-47a9-b1ff-a7a931c04991"
      },
      "outputs": [
        {
          "output_type": "stream",
          "name": "stdout",
          "text": [
            "Enter a list of numbers separated by spaces:  2 4 1 2 5 6\n",
            "The list in ascending order is [1, 2, 2, 4, 5, 6]\n"
          ]
        }
      ],
      "source": [
        "def sort_list(lst):\n",
        "    for i in range(len(lst)):\n",
        "        for j in range(i+1, len(lst)):\n",
        "            if lst[i] > lst[j]:\n",
        "                lst[i], lst[j] = lst[j], lst[i]\n",
        "first = input(\"Enter a list of numbers separated by spaces: \")\n",
        "numbers = [int(num) for num in first.split()]\n",
        "sort_list(numbers)\n",
        "print(\"The list in ascending order is\", numbers)"
      ]
    },
    {
      "cell_type": "markdown",
      "id": "1270c91c",
      "metadata": {
        "id": "1270c91c"
      },
      "source": [
        "### Question 12\n",
        "Write a function that returns the length of a string."
      ]
    },
    {
      "cell_type": "code",
      "execution_count": 15,
      "id": "87f35472",
      "metadata": {
        "colab": {
          "base_uri": "https://localhost:8080/"
        },
        "id": "87f35472",
        "outputId": "467e64e6-3075-47c5-c039-435d15451d2e"
      },
      "outputs": [
        {
          "output_type": "stream",
          "name": "stdout",
          "text": [
            "Enter a string: LEONARDO DA VINCI\n",
            "The length of the string is 17\n"
          ]
        }
      ],
      "source": [
        "def length_of_string(string):\n",
        "    count = 0\n",
        "    for char in string:\n",
        "        count += 1\n",
        "    return count\n",
        "first = input(\"Enter a string: \")\n",
        "print(\"The length of the string is\", length_of_string(first))"
      ]
    },
    {
      "cell_type": "markdown",
      "id": "9a8e3d28",
      "metadata": {
        "id": "9a8e3d28"
      },
      "source": [
        "### Question 13\n",
        "Write a function to count words in a sentence."
      ]
    },
    {
      "cell_type": "code",
      "execution_count": 16,
      "id": "e6f996ef",
      "metadata": {
        "colab": {
          "base_uri": "https://localhost:8080/"
        },
        "id": "e6f996ef",
        "outputId": "875b406e-4bee-41dc-b78d-7e2f6b42026a"
      },
      "outputs": [
        {
          "output_type": "stream",
          "name": "stdout",
          "text": [
            "Enter a sentence: apple defined gravity\n",
            "The number of words in the sentence is 3\n"
          ]
        }
      ],
      "source": [
        "def count_words(sentence):\n",
        "    words = sentence.split()\n",
        "    return len(words)\n",
        "first = input(\"Enter a sentence: \")\n",
        "print(\"The number of words in the sentence is\", count_words(first))"
      ]
    },
    {
      "cell_type": "markdown",
      "id": "430c2e4a",
      "metadata": {
        "id": "430c2e4a"
      },
      "source": [
        "### Question 14\n",
        "Write a function to convert Celsius to Fahrenheit."
      ]
    },
    {
      "cell_type": "code",
      "execution_count": 21,
      "id": "b710b0bd",
      "metadata": {
        "colab": {
          "base_uri": "https://localhost:8080/"
        },
        "id": "b710b0bd",
        "outputId": "d4293d3e-490c-4ca9-9fd7-69a73a0c37c0"
      },
      "outputs": [
        {
          "output_type": "stream",
          "name": "stdout",
          "text": [
            "Enter temperature in Celsius: 100\n",
            "Temperature in Fahrenheit: 212.0\n"
          ]
        }
      ],
      "source": [
        "def celsius_to_fahrenheit(celsius):\n",
        "    fahrenheit = (celsius * 9/5) + 32\n",
        "    return fahrenheit\n",
        "celsius = float(input(\"Enter temperature in Celsius: \"))\n",
        "fahrenheit = celsius_to_fahrenheit(celsius)\n",
        "print(\"Temperature in Fahrenheit:\", fahrenheit)"
      ]
    },
    {
      "cell_type": "markdown",
      "id": "acefe5e3",
      "metadata": {
        "id": "acefe5e3"
      },
      "source": [
        "### Question 15\n",
        "Write a function to check if a number is palindrome."
      ]
    },
    {
      "cell_type": "code",
      "execution_count": 24,
      "id": "b700abae",
      "metadata": {
        "colab": {
          "base_uri": "https://localhost:8080/"
        },
        "id": "b700abae",
        "outputId": "af106591-ce57-41ed-a957-713375f06f45"
      },
      "outputs": [
        {
          "output_type": "stream",
          "name": "stdout",
          "text": [
            "Enter a number: 1221\n",
            "The number is a palindrome.\n"
          ]
        }
      ],
      "source": [
        "def is_palindrome(number):\n",
        "    return str(number) == str(number)[::-1]\n",
        "\n",
        "number = int(input(\"Enter a number: \"))\n",
        "if is_palindrome(number):\n",
        "    print(\"The number is a palindrome.\")\n",
        "else:\n",
        "    print(\"The number is not a palindrome.\")"
      ]
    },
    {
      "cell_type": "markdown",
      "id": "b63452cb",
      "metadata": {
        "id": "b63452cb"
      },
      "source": [
        "### Question 16\n",
        "Write a function to return all even numbers in a list."
      ]
    },
    {
      "cell_type": "code",
      "execution_count": 25,
      "id": "9d1fc968",
      "metadata": {
        "colab": {
          "base_uri": "https://localhost:8080/"
        },
        "id": "9d1fc968",
        "outputId": "5cfbb722-1791-4d77-9eb4-4a06dd18ab4a"
      },
      "outputs": [
        {
          "output_type": "stream",
          "name": "stdout",
          "text": [
            "Enter a list of numbers separated by spaces: 1 2 3 4 5 6 7 8 9 \n",
            "The even numbers in the list are [2, 4, 6, 8]\n"
          ]
        }
      ],
      "source": [
        "def even_numbers(lst):\n",
        "    even_lst = []\n",
        "    for num in lst:\n",
        "        if num % 2 == 0:\n",
        "            even_lst.append(num)\n",
        "    return even_lst\n",
        "\n",
        "first = input(\"Enter a list of numbers separated by spaces: \")\n",
        "numbers = [int(num) for num in first.split()]\n",
        "print(\"The even numbers in the list are\", even_numbers(numbers))"
      ]
    },
    {
      "cell_type": "markdown",
      "id": "aca524d9",
      "metadata": {
        "id": "aca524d9"
      },
      "source": [
        "### Question 17\n",
        "Write a function to return the nth Fibonacci number."
      ]
    },
    {
      "cell_type": "code",
      "execution_count": 28,
      "id": "97dc4e87",
      "metadata": {
        "colab": {
          "base_uri": "https://localhost:8080/"
        },
        "id": "97dc4e87",
        "outputId": "bb574f28-701e-4ba6-c4ec-4517b70f6162"
      },
      "outputs": [
        {
          "output_type": "stream",
          "name": "stdout",
          "text": [
            "Enter a number: 8\n",
            "The 8 th Fibonacci number is 21\n"
          ]
        }
      ],
      "source": [
        "def fibonacci(n):\n",
        "    if n <= 0:\n",
        "        return 0\n",
        "    elif n == 1:\n",
        "        return 1\n",
        "\n",
        "    else:\n",
        "        a, b = 0, 1\n",
        "        for i in range(2, n+1):\n",
        "            c = a + b\n",
        "            a = b\n",
        "            b = c\n",
        "        return b\n",
        "\n",
        "n = int(input(\"Enter a number: \"))\n",
        "print(\"The\", n, \"th Fibonacci number is\", fibonacci(n))"
      ]
    },
    {
      "cell_type": "markdown",
      "id": "29c847dc",
      "metadata": {
        "id": "29c847dc"
      },
      "source": [
        "### Question 18\n",
        "Write a function to calculate the average of a list."
      ]
    },
    {
      "cell_type": "code",
      "execution_count": 29,
      "id": "9adc9fd2",
      "metadata": {
        "colab": {
          "base_uri": "https://localhost:8080/"
        },
        "id": "9adc9fd2",
        "outputId": "1f47c864-dce3-4ccb-d544-62c1ca0179d2"
      },
      "outputs": [
        {
          "output_type": "stream",
          "name": "stdout",
          "text": [
            "Enter a list of numbers separated by spaces: 1 2 3 4 5 6 7\n",
            "The average of the list is 4.0\n"
          ]
        }
      ],
      "source": [
        "def average(lst):\n",
        "    total = 0\n",
        "    for num in lst:\n",
        "        total += num\n",
        "    return total / len(lst)\n",
        "first = input(\"Enter a list of numbers separated by spaces: \")\n",
        "numbers = [int(num) for num in first.split()]\n",
        "print(\"The average of the list is\", average(numbers))"
      ]
    },
    {
      "cell_type": "markdown",
      "id": "420240fb",
      "metadata": {
        "id": "420240fb"
      },
      "source": [
        "### Question 19\n",
        "Write a function that returns a dictionary of character counts."
      ]
    },
    {
      "cell_type": "code",
      "execution_count": 30,
      "id": "95cafc54",
      "metadata": {
        "colab": {
          "base_uri": "https://localhost:8080/"
        },
        "id": "95cafc54",
        "outputId": "361fcf25-b8a0-47ab-9f1b-a01f206d5edc"
      },
      "outputs": [
        {
          "output_type": "stream",
          "name": "stdout",
          "text": [
            "Enter a string: learn origami enhance creativity\n",
            "The character counts are {'l': 1, 'e': 4, 'a': 4, 'r': 3, 'n': 3, ' ': 3, 'o': 1, 'i': 4, 'g': 1, 'm': 1, 'h': 1, 'c': 2, 't': 2, 'v': 1, 'y': 1}\n"
          ]
        }
      ],
      "source": [
        "def character_counts(string):\n",
        "    counts = {}\n",
        "    for char in string:\n",
        "        if char in counts:\n",
        "            counts[char] += 1\n",
        "        else:\n",
        "            counts[char] = 1\n",
        "    return counts\n",
        "first = input(\"Enter a string: \")\n",
        "print(\"The character counts are\", character_counts(first))"
      ]
    },
    {
      "cell_type": "markdown",
      "id": "17629a07",
      "metadata": {
        "id": "17629a07"
      },
      "source": [
        "### Question 20\n",
        "Write a function that returns True if all list elements are unique."
      ]
    },
    {
      "cell_type": "code",
      "execution_count": 43,
      "id": "fe4f8820",
      "metadata": {
        "colab": {
          "base_uri": "https://localhost:8080/"
        },
        "id": "fe4f8820",
        "outputId": "e78aeeda-8079-4ab6-b70b-f4fdfaafa186"
      },
      "outputs": [
        {
          "output_type": "stream",
          "name": "stdout",
          "text": [
            "Enter a list of numbers separated by spaces:  1 2 2 1\n",
            "Not all elements in the list are unique.\n"
          ]
        }
      ],
      "source": [
        "def unique_elements(lst):\n",
        "    return len(lst) == len(set(lst))\n",
        "first = input(\"Enter a list of numbers separated by spaces: \")\n",
        "numbers = [int(num) for num in first.split()]\n",
        "if unique_elements(numbers):\n",
        "    print(\"All elements in the list are unique.\")\n",
        "else:\n",
        "    print(\"Not all elements in the list are unique.\")"
      ]
    },
    {
      "cell_type": "markdown",
      "id": "91dc87b9",
      "metadata": {
        "id": "91dc87b9"
      },
      "source": [
        "### Question 21\n",
        "Write a function that returns dot product of two list of numbers"
      ]
    },
    {
      "cell_type": "code",
      "execution_count": 71,
      "id": "87c3fa4b",
      "metadata": {
        "colab": {
          "base_uri": "https://localhost:8080/"
        },
        "id": "87c3fa4b",
        "outputId": "08655d26-a2cb-4a32-ffca-3dedefb32ced"
      },
      "outputs": [
        {
          "output_type": "stream",
          "name": "stdout",
          "text": [
            "Enter the first list of numbers separated by spaces: 5 3 2 1\n",
            "Enter the second list of numbers separated by spaces: 7 6 8 4\n",
            "The dot product of the two lists is 73\n"
          ]
        }
      ],
      "source": [
        "def dot_product(lst1, lst2):\n",
        "    if len(lst1) != len(lst2):\n",
        "        return None\n",
        "    product = 0\n",
        "    for i in range(len(lst1)):\n",
        "        product += lst1[i] * lst2[i]\n",
        "    return product\n",
        "first = input(\"Enter the first list of numbers separated by spaces: \")\n",
        "numbers1 = [int(num) for num in first.split()]\n",
        "second = input(\"Enter the second list of numbers separated by spaces: \")\n",
        "numbers2 = [int(num) for num in second.split()]\n",
        "print(\"The dot product of the two lists is\", dot_product(numbers1, numbers2))"
      ]
    },
    {
      "cell_type": "markdown",
      "id": "5eeb0527",
      "metadata": {
        "id": "5eeb0527"
      },
      "source": [
        "### Question 22\n",
        "Write a function that returns the projection of vector a onto vector b. Both a and b are given as list of numbers"
      ]
    },
    {
      "cell_type": "code",
      "execution_count": 69,
      "id": "d2c2439f",
      "metadata": {
        "colab": {
          "base_uri": "https://localhost:8080/"
        },
        "id": "d2c2439f",
        "outputId": "a35c29e9-38c4-4653-a3cf-60009fcc482d"
      },
      "outputs": [
        {
          "output_type": "stream",
          "name": "stdout",
          "text": [
            "Enter the first vector as a list of numbers separated by spaces: 9 8 4 3\n",
            "Enter the second vector as a list of numbers separated by spaces: 7 5 4 2\n",
            "The projection of the first vector onto the second vector is 12.892765578234917\n"
          ]
        }
      ],
      "source": [
        "def projection(a, b):\n",
        "    dot_product = 0\n",
        "    for i in range(len(a)):\n",
        "        dot_product += a[i] * b[i]\n",
        "\n",
        "    magnitude_b = 0\n",
        "    for i in range(len(b)):\n",
        "        magnitude_b += b[i] ** 2\n",
        "    magnitude_b = magnitude_b ** 0.5\n",
        "\n",
        "    return dot_product / magnitude_b\n",
        "first = input(\"Enter the first vector as a list of numbers separated by spaces: \")\n",
        "numbers1 = [int(num) for num in first.split()]\n",
        "second = input(\"Enter the second vector as a list of numbers separated by spaces: \")\n",
        "numbers2 = [int(num) for num in second.split()]\n",
        "print(\"The projection of the first vector onto the second vector is\", projection(numbers1, numbers2))"
      ]
    },
    {
      "cell_type": "markdown",
      "id": "1410b385",
      "metadata": {
        "id": "1410b385"
      },
      "source": [
        "### Question 23\n",
        "Write a function to return common elements between two lists."
      ]
    },
    {
      "cell_type": "code",
      "execution_count": 46,
      "id": "2cee584c",
      "metadata": {
        "colab": {
          "base_uri": "https://localhost:8080/"
        },
        "id": "2cee584c",
        "outputId": "ddcec3db-e0fa-432a-c709-29bba41b98ee"
      },
      "outputs": [
        {
          "output_type": "stream",
          "name": "stdout",
          "text": [
            "Enter the first list of numbers separated by spaces: 1 2 3 4 \n",
            "Enter the second list of numbers separated by spaces: 3 6 7 8 9\n",
            "The common elements between the two lists are [3]\n"
          ]
        }
      ],
      "source": [
        "def common_elements(lst1, lst2):\n",
        "    common = []\n",
        "    for num in lst1:\n",
        "        if num in lst2:\n",
        "            common.append(num)\n",
        "    return common\n",
        "first = input(\"Enter the first list of numbers separated by spaces: \")\n",
        "numbers1 = [int(num) for num in first.split()]\n",
        "second = input(\"Enter the second list of numbers separated by spaces: \")\n",
        "numbers2 = [int(num) for num in second.split()]\n",
        "print(\"The common elements between the two lists are\", common_elements(numbers1, numbers2))"
      ]
    },
    {
      "cell_type": "markdown",
      "id": "23ab5210",
      "metadata": {
        "id": "23ab5210"
      },
      "source": [
        "### Question 24\n",
        "Create a class Vector that supports addition, dot product, and magnitude."
      ]
    },
    {
      "cell_type": "code",
      "execution_count": 67,
      "id": "f6b18fd7",
      "metadata": {
        "colab": {
          "base_uri": "https://localhost:8080/"
        },
        "id": "f6b18fd7",
        "outputId": "27673ad4-e07b-47ef-a12a-c7a3992ad73e"
      },
      "outputs": [
        {
          "output_type": "stream",
          "name": "stdout",
          "text": [
            "Enter the first vector as a list of numbers separated by spaces: 8 7\n",
            "Enter the second vector as a list of numbers separated by spaces: 4 5\n",
            "The sum of the two vectors is: [12, 12]\n",
            "The dot product of the two vectors is: 67\n",
            "The magnitude of the first vector is: 10.63014581273465\n",
            "The magnitude of the second vector is: 6.4031242374328485\n"
          ]
        }
      ],
      "source": [
        "import math\n",
        "class Vector:\n",
        "    def __init__(self, lst):\n",
        "        self.lst = lst\n",
        "\n",
        "    def __add__(self, other):\n",
        "        if len(self.lst) != len(other.lst):\n",
        "            return None\n",
        "        result = [self.lst[i] + other.lst[i] for i in range(len(self.lst))]\n",
        "        return Vector(result)\n",
        "\n",
        "    def dot(self, other):\n",
        "        if len(self.lst) != len(other.lst):\n",
        "            return None\n",
        "        product = sum(self.lst[i] * other.lst[i] for i in range(len(self.lst)))\n",
        "        return product\n",
        "\n",
        "    def mag(self):\n",
        "        magnitude = sum(x ** 2 for x in self.lst)\n",
        "        return math.sqrt(magnitude)\n",
        "\n",
        "first = input(\"Enter the first vector as a list of numbers separated by spaces: \")\n",
        "numbers1 = [int(num) for num in first.strip().split()]\n",
        "second = input(\"Enter the second vector as a list of numbers separated by spaces: \")\n",
        "numbers2 = [int(num) for num in second.strip().split()]\n",
        "\n",
        "vector1 = Vector(numbers1)\n",
        "vector2 = Vector(numbers2)\n",
        "\n",
        "print(\"The sum of the two vectors is:\", (vector1 + vector2).lst)\n",
        "print(\"The dot product of the two vectors is:\", vector1.dot(vector2))\n",
        "print(\"The magnitude of the first vector is:\", vector1.mag())\n",
        "print(\"The magnitude of the second vector is:\", vector2.mag())"
      ]
    },
    {
      "cell_type": "markdown",
      "id": "a0621aba",
      "metadata": {
        "id": "a0621aba"
      },
      "source": [
        "### Question 25\n",
        "Implement a function to return all outliers in a list based on the IQR method."
      ]
    },
    {
      "cell_type": "code",
      "execution_count": 57,
      "id": "460a8994",
      "metadata": {
        "colab": {
          "base_uri": "https://localhost:8080/"
        },
        "id": "460a8994",
        "outputId": "63bf793e-91b6-48f8-aba8-8f5630227260"
      },
      "outputs": [
        {
          "output_type": "stream",
          "name": "stdout",
          "text": [
            "Enter the numbers:  4 6 8 2 9 7 5 3 11 27 45\n",
            "Outliers: [27, 45]\n"
          ]
        }
      ],
      "source": [
        "def get_lower_bound(numbers):\n",
        "  numbers.sort()\n",
        "  index1 = int(0.25 * len(numbers))\n",
        "  index2 = int(0.75 * len(numbers))\n",
        "  q1 = numbers[index1]\n",
        "  q3 = numbers[index2]\n",
        "  iqr = q3 - q1\n",
        "  lower_bound = q1 - 1.5 * iqr\n",
        "  return lower_bound\n",
        "\n",
        "def get_upper_bound(numbers):\n",
        "  numbers.sort()\n",
        "  index1 = int(0.25 * len(numbers))\n",
        "  index2 = int(0.75 * len(numbers))\n",
        "  q1 = numbers[index1]\n",
        "  q3 = numbers[index2]\n",
        "  iqr = q3 - q1\n",
        "  upper_bound = q3 + 1.5 * iqr\n",
        "  return upper_bound\n",
        "\n",
        "def get_outliers(numbers):\n",
        "  lower_bound = get_lower_bound(numbers)\n",
        "  upper_bound = get_upper_bound(numbers)\n",
        "  outliers = []\n",
        "  for num in numbers:\n",
        "    if num < lower_bound or num > upper_bound:\n",
        "      outliers.append(num)\n",
        "  return outliers\n",
        "\n",
        "first = input(\"Enter the numbers: \")\n",
        "numbers = list(map(int, first.split()))\n",
        "outliers = get_outliers(numbers)\n",
        "print(\"Outliers:\", outliers)"
      ]
    },
    {
      "cell_type": "markdown",
      "id": "f0be510e",
      "metadata": {
        "id": "f0be510e"
      },
      "source": [
        "### Question 26\n",
        "Function with default arguments:\n",
        "Create a function to compute variance with an option to use sample or population formula"
      ]
    },
    {
      "cell_type": "code",
      "execution_count": 58,
      "id": "941d732d",
      "metadata": {
        "colab": {
          "base_uri": "https://localhost:8080/"
        },
        "id": "941d732d",
        "outputId": "bb428989-8789-4939-f1b6-2a2b27e85493"
      },
      "outputs": [
        {
          "output_type": "stream",
          "name": "stdout",
          "text": [
            "Enter the numbers:  2 3 4 2 1\n",
            "Population variance: 1.3\n",
            "Sample variance: 1.04\n"
          ]
        }
      ],
      "source": [
        "def variance(lst, sample=True):\n",
        "    mean = sum(lst) / len(lst)\n",
        "    numerator = sum((x - mean) ** 2 for x in lst)\n",
        "    if sample:\n",
        "        denominator = len(lst) - 1\n",
        "    else:\n",
        "        denominator = len(lst)\n",
        "    return numerator / denominator\n",
        "\n",
        "first = input(\"Enter the numbers: \")\n",
        "numbers = list(map(int, first.split()))\n",
        "print(\"Population variance:\", variance(numbers))\n",
        "print(\"Sample variance:\", variance(numbers, sample=False))"
      ]
    },
    {
      "cell_type": "markdown",
      "id": "c39be0f1",
      "metadata": {
        "id": "c39be0f1"
      },
      "source": [
        "### Question 27\n",
        "Create a list of squares of even numbers between 1 and 20 using list comprehension."
      ]
    },
    {
      "cell_type": "code",
      "execution_count": 59,
      "id": "9e4ba74a",
      "metadata": {
        "colab": {
          "base_uri": "https://localhost:8080/"
        },
        "id": "9e4ba74a",
        "outputId": "999df6a2-5348-4c0d-9508-0abeec5c3dcc"
      },
      "outputs": [
        {
          "output_type": "stream",
          "name": "stdout",
          "text": [
            "[4, 16, 36, 64, 100, 144, 196, 256, 324, 400]\n"
          ]
        }
      ],
      "source": [
        "\n",
        "\n",
        "squares_of_even_numbers = [x**2 for x in range(1, 21) if x % 2 == 0]\n",
        "print(squares_of_even_numbers)\n",
        "\n"
      ]
    },
    {
      "cell_type": "markdown",
      "id": "b43c266d",
      "metadata": {
        "id": "b43c266d"
      },
      "source": [
        "### Question 28\n",
        "Write a function that returns the L1 and L2 norms of a vector given as list"
      ]
    },
    {
      "cell_type": "code",
      "execution_count": 60,
      "id": "4f5dc876",
      "metadata": {
        "colab": {
          "base_uri": "https://localhost:8080/"
        },
        "id": "4f5dc876",
        "outputId": "bdeeeb38-f5a7-4107-a5a4-368faf5f4991"
      },
      "outputs": [
        {
          "output_type": "stream",
          "name": "stdout",
          "text": [
            "Enter the numbers: 2 3 4\n",
            "L1 norm: 9\n",
            "L2 norm: 5.385164807134504\n"
          ]
        }
      ],
      "source": [
        "def l1_norm(lst):\n",
        "    return sum(abs(x) for x in lst)\n",
        "\n",
        "def l2_norm(lst):\n",
        "    return (sum(x**2 for x in lst))**0.5\n",
        "\n",
        "first = input(\"Enter the numbers: \")\n",
        "numbers = list(map(int, first.split()))\n",
        "print(\"L1 norm:\", l1_norm(numbers))\n",
        "print(\"L2 norm:\", l2_norm(numbers))"
      ]
    },
    {
      "cell_type": "markdown",
      "id": "2007915f",
      "metadata": {
        "id": "2007915f"
      },
      "source": [
        "### Question 29\n",
        "Write a function that computes the 95% confidence interval for the mean of a list of numbers assuming normal distribution."
      ]
    },
    {
      "cell_type": "code",
      "execution_count": 61,
      "id": "8634dc63",
      "metadata": {
        "colab": {
          "base_uri": "https://localhost:8080/"
        },
        "id": "8634dc63",
        "outputId": "f8c47d3f-c772-4889-811b-1941b9b3ed32"
      },
      "outputs": [
        {
          "output_type": "stream",
          "name": "stdout",
          "text": [
            "Enter the numbers: 4 6 8 2 9 7 5 3 11 27 45\n",
            "95% confidence interval: (3.8567490799332393, 19.23416001097585)\n"
          ]
        }
      ],
      "source": [
        "def confidence_interval(lst):\n",
        "    mean = sum(lst) / len(lst)\n",
        "    std = (sum((x - mean) ** 2 for x in lst) / (len(lst) - 1)) ** 0.5\n",
        "    n = len(lst)\n",
        "    lower_bound = mean - 1.96 * std / (n ** 0.5)\n",
        "    upper_bound = mean + 1.96 * std / (n ** 0.5)\n",
        "    return (lower_bound, upper_bound)\n",
        "\n",
        "first = input(\"Enter the numbers: \")\n",
        "numbers = list(map(int, first.split()))\n",
        "print(\"95% confidence interval:\", confidence_interval(numbers))"
      ]
    },
    {
      "cell_type": "markdown",
      "id": "08df3afb",
      "metadata": {
        "id": "08df3afb"
      },
      "source": [
        "### Question 30\n",
        "Given a list of categorical values, create a frequency distribution dictionary."
      ]
    },
    {
      "cell_type": "code",
      "execution_count": 62,
      "id": "c9b88531",
      "metadata": {
        "colab": {
          "base_uri": "https://localhost:8080/"
        },
        "id": "c9b88531",
        "outputId": "ace5a10d-69ef-4d1f-c5a1-1a4f726ba345"
      },
      "outputs": [
        {
          "output_type": "stream",
          "name": "stdout",
          "text": [
            "Enter the categorical values: 23 34 32 1 2 \n",
            "Frequency distribution: {'23': 1, '34': 1, '32': 1, '1': 1, '2': 1}\n"
          ]
        }
      ],
      "source": [
        "def frequency_distribution(lst):\n",
        "    freq_dist = {}\n",
        "    for x in lst:\n",
        "        if x in freq_dist:\n",
        "            freq_dist[x] += 1\n",
        "        else:\n",
        "            freq_dist[x] = 1\n",
        "    return freq_dist\n",
        "first = input(\"Enter the categorical values: \")\n",
        "values = first.split()\n",
        "print(\"Frequency distribution:\", frequency_distribution(values))"
      ]
    },
    {
      "cell_type": "code",
      "source": [],
      "metadata": {
        "id": "SWjEQ0KmO5B5"
      },
      "id": "SWjEQ0KmO5B5",
      "execution_count": 62,
      "outputs": []
    }
  ],
  "metadata": {
    "language_info": {
      "name": "python"
    },
    "colab": {
      "provenance": []
    },
    "kernelspec": {
      "name": "python3",
      "display_name": "Python 3"
    }
  },
  "nbformat": 4,
  "nbformat_minor": 5
}